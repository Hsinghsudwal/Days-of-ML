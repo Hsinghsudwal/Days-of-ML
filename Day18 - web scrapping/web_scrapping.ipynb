{
 "cells": [
  {
   "attachments": {},
   "cell_type": "markdown",
   "metadata": {},
   "source": [
    "# Web Scrapping"
   ]
  },
  {
   "attachments": {},
   "cell_type": "markdown",
   "metadata": {},
   "source": [
    "We are gonna WebScrape something from AmbitionBox.\n",
    "This website doesnt have any api!!\n",
    "\n",
    "We are gonna hit URL's and get some data like 'company_name', 'rating', 'headquarter_location', 'date of formation', 'no_of_employees', 'tags', 'about'"
   ]
  },
  {
   "cell_type": "code",
   "execution_count": 34,
   "metadata": {},
   "outputs": [],
   "source": [
    "import pandas as pd\n",
    "import requests\n",
    "from bs4 import BeautifulSoup"
   ]
  },
  {
   "cell_type": "code",
   "execution_count": 3,
   "metadata": {},
   "outputs": [
    {
     "data": {
      "text/plain": [
       "'<HTML><HEAD>\\n<TITLE>Access Denied</TITLE>\\n</HEAD><BODY>\\n<H1>Access Denied</H1>\\n \\nYou don\\'t have permission to access \"http&#58;&#47;&#47;www&#46;ambitionbox&#46;com&#47;list&#45;of&#45;companies&#63;\" on this server.<P>\\nReference&#32;&#35;18&#46;67d70b17&#46;1686685442&#46;130e2b25\\n</BODY>\\n</HTML>\\n'"
      ]
     },
     "execution_count": 3,
     "metadata": {},
     "output_type": "execute_result"
    }
   ],
   "source": [
    "requests.get('https://www.ambitionbox.com/list-of-companies?campaign=desktop_nav').text\n",
    "# response 403 means the server rejected your request"
   ]
  },
  {
   "attachments": {},
   "cell_type": "markdown",
   "metadata": {},
   "source": [
    "You have to pretend to be a browser to get around this. You can do this by creating a header and then passing it with the URL in the requests.get() method"
   ]
  },
  {
   "cell_type": "code",
   "execution_count": 4,
   "metadata": {},
   "outputs": [
    {
     "data": {
      "text/plain": [
       "b'\\n\\n<!DOCTYPE html>\\n<html>\\n  <head>\\n    <meta charset=\"utf-8\">\\n    <meta name=\"viewport\" content=\"width=device-width, initial-scale=1, shrink-to-fit=no\">\\n    <meta http-equiv=\"refresh\" content=\"5; URL=\\'/list-of-companies?campaign=desktop_nav&bm-verify=AAQAAAAH_____4QRwN1hZepBUnF99ErYlbrTCtlgileskPkJKxCmWrK8gxSeVB0phTOkiPbC3-u6bBTUphLbbx6AK31LlocWcmBrgjbzgk2XEGzr6nnDk-TcANzszf76T6jGrWMc22IfDyPsTD65Lyt9DM_-IqN4iit9-_LbQLFUMy4GMniuLF55blf1jj64DkzjAzJzp-4KQpBRxDEH2POgbLCx8cIMhxvezFpiQuWNxsVvUbizfubt8iTOjKuayOiwhFufTNprQzTB8FtRdenMzBrhfp2bL5Bx3Cfy4SipeJhVm_aax9dI\\'\" />\\n    <title>&nbsp;</title>\\n    <script>\\n        var i = 1686685442;\\n        var j = i + Number(\"8397\" + \"40268\");\\n    </script>\\n  </head>\\n    <noscript>\\n      <iframe style=\"border: none; height: 100%; width: 100%;\" src=\"\"></iframe>\\n    </noscript>\\n    <script>\\n          var xhr = new XMLHttpRequest();\\n          xhr.withCredentials = true;\\n          xhr.addEventListener(\"loadend\", function() {\\n              try {\\n                  var data = JSON.parse(xhr.responseText);\\n                  if (data.hasOwnProperty(\\'reload\\')) {\\n                      if (data[\"reload\"] == true) {\\n                        window.location.replace(window.location.href.replace(/[&?]bm-verify=[^#]*/, \"\"));\\n                        if(window.location.hash){\\n                          window.location.reload();\\n                        }\\n                      }\\n                  } else if (data.hasOwnProperty(\\'location\\')) {\\n                      window.location.replace(data[\"location\"]);\\n\\n                  } else {\\n                      window.location.reload();\\n                  }\\n              } catch (e) {\\n                  var data = {}\\n                  window.location.reload();\\n              }\\n          });\\n          xhr.open(\"POST\", \"/_sec/verify?provider=interstitial\", false);\\n          xhr.setRequestHeader(\"Content-Type\", \"application/json\");\\n          xhr.send(JSON.stringify({\\n              \"bm-verify\": \"AAQAAAAH/////69YZsAZXAbIh81C/fnLc6xLqe3cCxRo60I9JbwN2Gl/AQXSM/joWWUCzXAyNTQLR+uO+wuPIkbyqz8HFSd0u0g5AnLlF3Cpl+abHjeKxH1tTTnxdb/CY6cB975pKZitrHWf/yDdfJCHtmGcQI7WUkDwrTHCuJO/L5lPc7isD2+JHB53sHcBGKqqfUDvCX550TQvCJFSh2P2WiVkeb43WS00jYyoLs1XfzwRKciJTzlD+OJGXPmqT1CNoOK+xUUCIHNvVmSwIBze5icdtwqbZm44kjQ2UZeBpOWViIlsjJ4rVaMRPyCvvT7TpyfDBcDKEg==\",\\n              \"pow\": j\\n          }));\\n    </script>\\n  </body>\\n</html>\\n                              '"
      ]
     },
     "execution_count": 4,
     "metadata": {},
     "output_type": "execute_result"
    }
   ],
   "source": [
    "headers = {'User-Agent':'Mozilla/5.0 (Windows NT 6.3; Win 64 ; x64) Apple WeKit /537.36(KHTML , like Gecko) Chrome/80.0.3987.162 Safari/537.36'}\n",
    "webpage = requests.get('https://www.ambitionbox.com/list-of-companies?campaign=desktop_nav', headers=headers)\n",
    "# to parse the html file correctly store the response as text\n",
    "html = webpage.content\n",
    "html\n",
    "# store the content in a variable"
   ]
  },
  {
   "cell_type": "code",
   "execution_count": 33,
   "metadata": {},
   "outputs": [
    {
     "ename": "FeatureNotFound",
     "evalue": "Couldn't find a tree builder with the features you requested: lxml. Do you need to install a parser library?",
     "output_type": "error",
     "traceback": [
      "\u001b[1;31m---------------------------------------------------------------------------\u001b[0m",
      "\u001b[1;31mFeatureNotFound\u001b[0m                           Traceback (most recent call last)",
      "Cell \u001b[1;32mIn[33], line 2\u001b[0m\n\u001b[0;32m      1\u001b[0m \u001b[39m# you beautiful soup to parse the webpage and create an object\u001b[39;00m\n\u001b[1;32m----> 2\u001b[0m soup \u001b[39m=\u001b[39m BeautifulSoup(html, \u001b[39m'\u001b[39;49m\u001b[39mlxml\u001b[39;49m\u001b[39m'\u001b[39;49m)\n",
      "File \u001b[1;32mc:\\Dev\\Conda\\envs\\ds\\Lib\\site-packages\\bs4\\__init__.py:245\u001b[0m, in \u001b[0;36mBeautifulSoup.__init__\u001b[1;34m(self, markup, features, builder, parse_only, from_encoding, exclude_encodings, element_classes, **kwargs)\u001b[0m\n\u001b[0;32m    243\u001b[0m     builder_class \u001b[39m=\u001b[39m builder_registry\u001b[39m.\u001b[39mlookup(\u001b[39m*\u001b[39mfeatures)\n\u001b[0;32m    244\u001b[0m     \u001b[39mif\u001b[39;00m builder_class \u001b[39mis\u001b[39;00m \u001b[39mNone\u001b[39;00m:\n\u001b[1;32m--> 245\u001b[0m         \u001b[39mraise\u001b[39;00m FeatureNotFound(\n\u001b[0;32m    246\u001b[0m             \u001b[39m\"\u001b[39m\u001b[39mCouldn\u001b[39m\u001b[39m'\u001b[39m\u001b[39mt find a tree builder with the features you \u001b[39m\u001b[39m\"\u001b[39m\n\u001b[0;32m    247\u001b[0m             \u001b[39m\"\u001b[39m\u001b[39mrequested: \u001b[39m\u001b[39m%s\u001b[39;00m\u001b[39m. Do you need to install a parser library?\u001b[39m\u001b[39m\"\u001b[39m\n\u001b[0;32m    248\u001b[0m             \u001b[39m%\u001b[39m \u001b[39m\"\u001b[39m\u001b[39m,\u001b[39m\u001b[39m\"\u001b[39m\u001b[39m.\u001b[39mjoin(features))\n\u001b[0;32m    250\u001b[0m \u001b[39m# At this point either we have a TreeBuilder instance in\u001b[39;00m\n\u001b[0;32m    251\u001b[0m \u001b[39m# builder, or we have a builder_class that we can instantiate\u001b[39;00m\n\u001b[0;32m    252\u001b[0m \u001b[39m# with the remaining **kwargs.\u001b[39;00m\n\u001b[0;32m    253\u001b[0m \u001b[39mif\u001b[39;00m builder \u001b[39mis\u001b[39;00m \u001b[39mNone\u001b[39;00m:\n",
      "\u001b[1;31mFeatureNotFound\u001b[0m: Couldn't find a tree builder with the features you requested: lxml. Do you need to install a parser library?"
     ]
    }
   ],
   "source": [
    "# you beautiful soup to parse the webpage and create an object\n",
    "soup = BeautifulSoup(html, 'lxml')"
   ]
  },
  {
   "cell_type": "code",
   "execution_count": 20,
   "metadata": {},
   "outputs": [
    {
     "name": "stdout",
     "output_type": "stream",
     "text": [
      "<!DOCTYPE html>\n",
      "<html>\n",
      " <head>\n",
      "  <meta charset=\"utf-8\"/>\n",
      "  <meta content=\"width=device-width, initial-scale=1, shrink-to-fit=no\" name=\"viewport\"/>\n",
      "  <meta content=\"5; URL='/list-of-companies?campaign=desktop_nav&amp;bm-verify=AAQAAAAH_____4QRwN1hZepBUnF99ErYlbrTCtlgileskPkJKxCmWrK8gxSeVB0phTOkiPbC3-u6bBTUphLbbx6AK31LlocWcmBrgjbzgk2XEGzr6nnDk-TcANzszf76T6jGrWMc22IfDyPsTD65Lyt9DM_-IqN4iit9-_LbQLFUMy4GMniuLF55blf1jj64DkzjAzJzp-4KQpBRxDEH2POgbLCx8cIMhxvezFpiQuWNxsVvUbizfubt8iTOjKuayOiwhFufTNprQzTB8FtRdenMzBrhfp2bL5Bx3Cfy4SipeJhVm_aax9dI'\" http-equiv=\"refresh\">\n",
      "   <title>\n",
      "   </title>\n",
      "   <script>\n",
      "    var i = 1686685442;\n",
      "        var j = i + Number(\"8397\" + \"40268\");\n",
      "   </script>\n",
      "  </meta>\n",
      " </head>\n",
      " <noscript>\n",
      "  <iframe src=\"\" style=\"border: none; height: 100%; width: 100%;\">\n",
      "  </iframe>\n",
      " </noscript>\n",
      " <script>\n",
      "  var xhr = new XMLHttpRequest();\n",
      "          xhr.withCredentials = true;\n",
      "          xhr.addEventListener(\"loadend\", function() {\n",
      "              try {\n",
      "                  var data = JSON.parse(xhr.responseText);\n",
      "                  if (data.hasOwnProperty('reload')) {\n",
      "                      if (data[\"reload\"] == true) {\n",
      "                        window.location.replace(window.location.href.replace(/[&?]bm-verify=[^#]*/, \"\"));\n",
      "                        if(window.location.hash){\n",
      "                          window.location.reload();\n",
      "                        }\n",
      "                      }\n",
      "                  } else if (data.hasOwnProperty('location')) {\n",
      "                      window.location.replace(data[\"location\"]);\n",
      "\n",
      "                  } else {\n",
      "                      window.location.reload();\n",
      "                  }\n",
      "              } catch (e) {\n",
      "                  var data = {}\n",
      "                  window.location.reload();\n",
      "              }\n",
      "          });\n",
      "          xhr.open(\"POST\", \"/_sec/verify?provider=interstitial\", false);\n",
      "          xhr.setRequestHeader(\"Content-Type\", \"application/json\");\n",
      "          xhr.send(JSON.stringify({\n",
      "              \"bm-verify\": \"AAQAAAAH/////69YZsAZXAbIh81C/fnLc6xLqe3cCxRo60I9JbwN2Gl/AQXSM/joWWUCzXAyNTQLR+uO+wuPIkbyqz8HFSd0u0g5AnLlF3Cpl+abHjeKxH1tTTnxdb/CY6cB975pKZitrHWf/yDdfJCHtmGcQI7WUkDwrTHCuJO/L5lPc7isD2+JHB53sHcBGKqqfUDvCX550TQvCJFSh2P2WiVkeb43WS00jYyoLs1XfzwRKciJTzlD+OJGXPmqT1CNoOK+xUUCIHNvVmSwIBze5icdtwqbZm44kjQ2UZeBpOWViIlsjJ4rVaMRPyCvvT7TpyfDBcDKEg==\",\n",
      "              \"pow\": j\n",
      "          }));\n",
      " </script>\n",
      "</html>\n",
      "\n"
     ]
    }
   ],
   "source": [
    "# use this object for all the beautiful soup functions\n",
    "print(soup.prettify())"
   ]
  },
  {
   "cell_type": "code",
   "execution_count": 27,
   "metadata": {},
   "outputs": [
    {
     "data": {
      "text/plain": [
       "[]"
      ]
     },
     "execution_count": 27,
     "metadata": {},
     "output_type": "execute_result"
    }
   ],
   "source": [
    "# if you want to read some headers from the soup object\n",
    "soup.find_all(\"\")"
   ]
  }
 ],
 "metadata": {
  "kernelspec": {
   "display_name": "ds",
   "language": "python",
   "name": "python3"
  },
  "language_info": {
   "codemirror_mode": {
    "name": "ipython",
    "version": 3
   },
   "file_extension": ".py",
   "mimetype": "text/x-python",
   "name": "python",
   "nbconvert_exporter": "python",
   "pygments_lexer": "ipython3",
   "version": "3.11.3"
  },
  "orig_nbformat": 4
 },
 "nbformat": 4,
 "nbformat_minor": 2
}
