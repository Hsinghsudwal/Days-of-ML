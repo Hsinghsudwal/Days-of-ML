{
 "cells": [
  {
   "cell_type": "markdown",
   "metadata": {},
   "source": [
    "# Outliers"
   ]
  },
  {
   "cell_type": "markdown",
   "metadata": {},
   "source": [
    "## When is an outlier dangerous??"
   ]
  },
  {
   "cell_type": "markdown",
   "metadata": {},
   "source": [
    "Consider, a list og ages of people. Ex, 300 is defenitely an outlier. This is impossible in real life. And hence, it makes sense to remove them...\n",
    "\n",
    "Whereas, in some cases (Anamoly Detection Algotrithms) we are actuallly fishing for these outliers and that is the purpose of our Machine Learing. In this case, it makes zero sense to remove them!"
   ]
  },
  {
   "cell_type": "markdown",
   "metadata": {},
   "source": [
    "- Some Algorithms effect more on some Algorithms than others\n",
    "    - Logistic Regression, Linear Regression, Adaboost and Deep Learning Models are suseptabtle to outliers.....\n",
    "    - Decision Trees, Random Forest, Xgboost are immune to Outliers!!"
   ]
  },
  {
   "cell_type": "markdown",
   "metadata": {},
   "source": [
    "### How to Treat Outliers??"
   ]
  },
  {
   "cell_type": "markdown",
   "metadata": {},
   "source": [
    "1) Trimming:\n",
    "    - Fast\n",
    "    - Reduce your Dataset\n",
    "2) Capping:\n",
    "    - Define min and max limits for your data, anuthing beyond is considered an outlier and it's value is changed to the min or max of the allowed range\n",
    "3) Treat as Missing Values:\n",
    "    - All the missing value technique can be applied here\n",
    "4) Descritisation:\n",
    "    - put the data in bins and define new category of data"
   ]
  },
  {
   "cell_type": "markdown",
   "metadata": {},
   "source": [
    "### Detecting Outliers"
   ]
  },
  {
   "cell_type": "markdown",
   "metadata": {},
   "source": [
    "1. Normal Distribution\n",
    "    - It is a rule of thum for Normal Distribution that anything beying 3 Standard Deviations is condidered an outliers\n",
    "\n",
    "2. Skewed Distribution\n",
    "    - This is in case you have a sligthly skewed Normal Distribution\n",
    "    - We use the IQR = Q3-Q2\n",
    "    - Anything less than Q1 - 1.5IQR or greater than Q3 + 1.5IQR is considered an outlier\n",
    "\n",
    "3. Other Distribution\n",
    "    - This one applies for just about any distribution\n",
    "    - Decide on max and min percentiles Ex- >95% and <2.5%\n",
    "    - If data is beyond this, then it as an outlier"
   ]
  },
  {
   "cell_type": "markdown",
   "metadata": {},
   "source": [
    "### Methods to Treat Outliers\n",
    "\n",
    "1. Z-Score Treatment\n",
    "2. IQR based filtering\n",
    "3. Percentile based\n",
    "4. Winserization"
   ]
  }
 ],
 "metadata": {
  "kernelspec": {
   "display_name": "data",
   "language": "python",
   "name": "python3"
  },
  "language_info": {
   "name": "python",
   "version": "3.10.12"
  },
  "orig_nbformat": 4
 },
 "nbformat": 4,
 "nbformat_minor": 2
}
